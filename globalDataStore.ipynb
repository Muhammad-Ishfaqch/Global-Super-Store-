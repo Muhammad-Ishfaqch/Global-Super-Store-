{
 "cells": [
  {
   "cell_type": "markdown",
   "id": "0e45b949",
   "metadata": {},
   "source": [
    "## Introduction to the Dataset\n",
    "---\n",
    "\n",
    "The Global Superstore dataset is a rich, large-scale retail sales dataset that represents a fictional but realistic multi-national store. It is widely used in data science, analytics, and business intelligence projects because it mirrors the complexities of real-world business operations such as sales, shipping, profit management, and customer segmentation.\n",
    "\n",
    "---\n",
    "### 📌 Background & Purpose\n",
    "---\n",
    "The dataset is designed to simulate how a global retail company operates across different countries, regions, and markets. It includes details of orders, customers, products, shipping, and financial metrics (sales, profit, shipping costs, discounts).\n",
    "\n",
    "It is commonly used in:\n",
    "\n",
    "- Exploratory Data Analysis (EDA): Understanding data trends and anomalies.\n",
    "\n",
    "- Business Intelligence (BI): Creating dashboards to monitor KPIs.\n",
    "\n",
    "- Machine Learning (ML): Building models for sales prediction, customer segmentation, and demand forecasting.\n",
    "\n",
    "- Decision Science: Optimizing shipping, discounts, and profitability.\n",
    "---\n",
    "### 📑 Structure of the Dataset\n",
    "\n",
    "---\n",
    "The dataset contains 51,290 transactions (rows) and 24 attributes (columns), covering all aspects of a sales process:\n",
    "\n",
    "- Order Information\n",
    "\n",
    "    - Order ID, Order Date, Ship Date, Ship Mode, Order Priority.\n",
    "    - These fields describe how and when the order was placed, and the urgency of fulfillment.\n",
    "\n",
    "- Customer Information\n",
    "\n",
    "    - Customer ID, Customer Name, Segment, City, State, Country, Postal Code, Market, Region.\n",
    "    - These provide demographic and geographical details about buyers.\n",
    "\n",
    "- Product Information\n",
    "\n",
    "    - Product ID, Product Name, Category, Sub-Category.\n",
    "    - These capture the catalog structure and type of items purchased.\n",
    "\n",
    "- Financial Information\n",
    "\n",
    "    - Sales, Quantity, Discount, Profit, Shipping Cost.\n",
    "    - These indicate the revenue generated, items sold, discounts applied, and profitability.\n",
    "\n",
    "- 🌎 Geographic & Market Scope\n",
    "\n",
    "    - Covers customers from 147 countries across 7 global markets (Africa, APAC, Canada, EMEA, EU, LATAM, US).\n",
    "\n",
    "    - Includes detailed breakdown by regions (e.g., East, West, North, South).\n",
    "\n",
    "    - Captures both developed and developing markets, making it ideal for global comparative studies.\n",
    "\n",
    "- 📊 Business Value\n",
    "\n",
    "    - The dataset provides a 360-degree view of a retail operation, enabling:\n",
    "\n",
    "    - Sales Analysis: Which products, categories, and regions drive the most sales?\n",
    "\n",
    "    - Profitability Studies: Where are discounts hurting profit margins?\n",
    "\n",
    "    - Customer Segmentation: Understanding behavior across Consumer, Corporate, and Home Office customers.\n",
    "\n",
    "    - Shipping Optimization: Which shipping modes are cost-efficient vs. loss-making?\n",
    "\n",
    "    - Market Expansion Strategy: Identifying high-performing regions or underperforming countries.\n",
    "\n",
    "- ⚙️ Why It’s Popular\n",
    "\n",
    "    - Realistic & Complex: Covers multi-dimensional data (customer, product, geography, finance).\n",
    "\n",
    "    - Sizeable: With 51k+ records, it’s large enough to test models but manageable on personal computers.\n",
    "\n",
    "    - Widely Used: Adopted in tutorials, Kaggle competitions, Tableau dashboards, and academic research.\n",
    "\n",
    "    - Versatile Applications: Supports both descriptive analytics (dashboards) and predictive analytics (ML models)."
   ]
  },
  {
   "cell_type": "markdown",
   "id": "6408e767",
   "metadata": {},
   "source": [
    "Creating an interactive business dashboard using Streamlit involves several steps, including cleaning the data, building the dashboard, and visualizing key performance indicators (KPIs). Below is a step-by-step guide to accomplish this using the Global Superstore dataset."
   ]
  },
  {
   "cell_type": "markdown",
   "id": "65e1e956",
   "metadata": {},
   "source": [
    "## Step 1: *Import Libraries*"
   ]
  },
  {
   "cell_type": "code",
   "execution_count": 4,
   "id": "4a914a89",
   "metadata": {},
   "outputs": [],
   "source": [
    "import numpy as np \n",
    "import pandas as pd \n",
    "import streamlit as st\n",
    "import plotly.express  as px\n",
    "import matplotlib.pyplot as plt "
   ]
  },
  {
   "cell_type": "markdown",
   "id": "0824854e",
   "metadata": {},
   "source": [
    "## Step 2: Load and Clean the Dataset"
   ]
  },
  {
   "cell_type": "code",
   "execution_count": 5,
   "id": "4ce1afcd",
   "metadata": {},
   "outputs": [
    {
     "data": {
      "text/html": [
       "<div>\n",
       "<style scoped>\n",
       "    .dataframe tbody tr th:only-of-type {\n",
       "        vertical-align: middle;\n",
       "    }\n",
       "\n",
       "    .dataframe tbody tr th {\n",
       "        vertical-align: top;\n",
       "    }\n",
       "\n",
       "    .dataframe thead th {\n",
       "        text-align: right;\n",
       "    }\n",
       "</style>\n",
       "<table border=\"1\" class=\"dataframe\">\n",
       "  <thead>\n",
       "    <tr style=\"text-align: right;\">\n",
       "      <th></th>\n",
       "      <th>Row ID</th>\n",
       "      <th>Order ID</th>\n",
       "      <th>Order Date</th>\n",
       "      <th>Ship Date</th>\n",
       "      <th>Ship Mode</th>\n",
       "      <th>Customer ID</th>\n",
       "      <th>Customer Name</th>\n",
       "      <th>Segment</th>\n",
       "      <th>City</th>\n",
       "      <th>State</th>\n",
       "      <th>...</th>\n",
       "      <th>Product ID</th>\n",
       "      <th>Category</th>\n",
       "      <th>Sub-Category</th>\n",
       "      <th>Product Name</th>\n",
       "      <th>Sales</th>\n",
       "      <th>Quantity</th>\n",
       "      <th>Discount</th>\n",
       "      <th>Profit</th>\n",
       "      <th>Shipping Cost</th>\n",
       "      <th>Order Priority</th>\n",
       "    </tr>\n",
       "  </thead>\n",
       "  <tbody>\n",
       "    <tr>\n",
       "      <th>0</th>\n",
       "      <td>32298</td>\n",
       "      <td>CA-2012-124891</td>\n",
       "      <td>31-07-2012</td>\n",
       "      <td>31-07-2012</td>\n",
       "      <td>Same Day</td>\n",
       "      <td>RH-19495</td>\n",
       "      <td>Rick Hansen</td>\n",
       "      <td>Consumer</td>\n",
       "      <td>New York City</td>\n",
       "      <td>New York</td>\n",
       "      <td>...</td>\n",
       "      <td>TEC-AC-10003033</td>\n",
       "      <td>Technology</td>\n",
       "      <td>Accessories</td>\n",
       "      <td>Plantronics CS510 - Over-the-Head monaural Wir...</td>\n",
       "      <td>2309.650</td>\n",
       "      <td>7</td>\n",
       "      <td>0.0</td>\n",
       "      <td>762.1845</td>\n",
       "      <td>933.57</td>\n",
       "      <td>Critical</td>\n",
       "    </tr>\n",
       "    <tr>\n",
       "      <th>1</th>\n",
       "      <td>26341</td>\n",
       "      <td>IN-2013-77878</td>\n",
       "      <td>05-02-2013</td>\n",
       "      <td>07-02-2013</td>\n",
       "      <td>Second Class</td>\n",
       "      <td>JR-16210</td>\n",
       "      <td>Justin Ritter</td>\n",
       "      <td>Corporate</td>\n",
       "      <td>Wollongong</td>\n",
       "      <td>New South Wales</td>\n",
       "      <td>...</td>\n",
       "      <td>FUR-CH-10003950</td>\n",
       "      <td>Furniture</td>\n",
       "      <td>Chairs</td>\n",
       "      <td>Novimex Executive Leather Armchair, Black</td>\n",
       "      <td>3709.395</td>\n",
       "      <td>9</td>\n",
       "      <td>0.1</td>\n",
       "      <td>-288.7650</td>\n",
       "      <td>923.63</td>\n",
       "      <td>Critical</td>\n",
       "    </tr>\n",
       "    <tr>\n",
       "      <th>2</th>\n",
       "      <td>25330</td>\n",
       "      <td>IN-2013-71249</td>\n",
       "      <td>17-10-2013</td>\n",
       "      <td>18-10-2013</td>\n",
       "      <td>First Class</td>\n",
       "      <td>CR-12730</td>\n",
       "      <td>Craig Reiter</td>\n",
       "      <td>Consumer</td>\n",
       "      <td>Brisbane</td>\n",
       "      <td>Queensland</td>\n",
       "      <td>...</td>\n",
       "      <td>TEC-PH-10004664</td>\n",
       "      <td>Technology</td>\n",
       "      <td>Phones</td>\n",
       "      <td>Nokia Smart Phone, with Caller ID</td>\n",
       "      <td>5175.171</td>\n",
       "      <td>9</td>\n",
       "      <td>0.1</td>\n",
       "      <td>919.9710</td>\n",
       "      <td>915.49</td>\n",
       "      <td>Medium</td>\n",
       "    </tr>\n",
       "    <tr>\n",
       "      <th>3</th>\n",
       "      <td>13524</td>\n",
       "      <td>ES-2013-1579342</td>\n",
       "      <td>28-01-2013</td>\n",
       "      <td>30-01-2013</td>\n",
       "      <td>First Class</td>\n",
       "      <td>KM-16375</td>\n",
       "      <td>Katherine Murray</td>\n",
       "      <td>Home Office</td>\n",
       "      <td>Berlin</td>\n",
       "      <td>Berlin</td>\n",
       "      <td>...</td>\n",
       "      <td>TEC-PH-10004583</td>\n",
       "      <td>Technology</td>\n",
       "      <td>Phones</td>\n",
       "      <td>Motorola Smart Phone, Cordless</td>\n",
       "      <td>2892.510</td>\n",
       "      <td>5</td>\n",
       "      <td>0.1</td>\n",
       "      <td>-96.5400</td>\n",
       "      <td>910.16</td>\n",
       "      <td>Medium</td>\n",
       "    </tr>\n",
       "    <tr>\n",
       "      <th>4</th>\n",
       "      <td>47221</td>\n",
       "      <td>SG-2013-4320</td>\n",
       "      <td>05-11-2013</td>\n",
       "      <td>06-11-2013</td>\n",
       "      <td>Same Day</td>\n",
       "      <td>RH-9495</td>\n",
       "      <td>Rick Hansen</td>\n",
       "      <td>Consumer</td>\n",
       "      <td>Dakar</td>\n",
       "      <td>Dakar</td>\n",
       "      <td>...</td>\n",
       "      <td>TEC-SHA-10000501</td>\n",
       "      <td>Technology</td>\n",
       "      <td>Copiers</td>\n",
       "      <td>Sharp Wireless Fax, High-Speed</td>\n",
       "      <td>2832.960</td>\n",
       "      <td>8</td>\n",
       "      <td>0.0</td>\n",
       "      <td>311.5200</td>\n",
       "      <td>903.04</td>\n",
       "      <td>Critical</td>\n",
       "    </tr>\n",
       "  </tbody>\n",
       "</table>\n",
       "<p>5 rows × 24 columns</p>\n",
       "</div>"
      ],
      "text/plain": [
       "   Row ID         Order ID  Order Date   Ship Date     Ship Mode Customer ID  \\\n",
       "0   32298   CA-2012-124891  31-07-2012  31-07-2012      Same Day    RH-19495   \n",
       "1   26341    IN-2013-77878  05-02-2013  07-02-2013  Second Class    JR-16210   \n",
       "2   25330    IN-2013-71249  17-10-2013  18-10-2013   First Class    CR-12730   \n",
       "3   13524  ES-2013-1579342  28-01-2013  30-01-2013   First Class    KM-16375   \n",
       "4   47221     SG-2013-4320  05-11-2013  06-11-2013      Same Day     RH-9495   \n",
       "\n",
       "      Customer Name      Segment           City            State  ...  \\\n",
       "0       Rick Hansen     Consumer  New York City         New York  ...   \n",
       "1     Justin Ritter    Corporate     Wollongong  New South Wales  ...   \n",
       "2      Craig Reiter     Consumer       Brisbane       Queensland  ...   \n",
       "3  Katherine Murray  Home Office         Berlin           Berlin  ...   \n",
       "4       Rick Hansen     Consumer          Dakar            Dakar  ...   \n",
       "\n",
       "         Product ID    Category Sub-Category  \\\n",
       "0   TEC-AC-10003033  Technology  Accessories   \n",
       "1   FUR-CH-10003950   Furniture       Chairs   \n",
       "2   TEC-PH-10004664  Technology       Phones   \n",
       "3   TEC-PH-10004583  Technology       Phones   \n",
       "4  TEC-SHA-10000501  Technology      Copiers   \n",
       "\n",
       "                                        Product Name     Sales Quantity  \\\n",
       "0  Plantronics CS510 - Over-the-Head monaural Wir...  2309.650        7   \n",
       "1          Novimex Executive Leather Armchair, Black  3709.395        9   \n",
       "2                  Nokia Smart Phone, with Caller ID  5175.171        9   \n",
       "3                     Motorola Smart Phone, Cordless  2892.510        5   \n",
       "4                     Sharp Wireless Fax, High-Speed  2832.960        8   \n",
       "\n",
       "  Discount    Profit  Shipping Cost  Order Priority  \n",
       "0      0.0  762.1845         933.57        Critical  \n",
       "1      0.1 -288.7650         923.63        Critical  \n",
       "2      0.1  919.9710         915.49          Medium  \n",
       "3      0.1  -96.5400         910.16          Medium  \n",
       "4      0.0  311.5200         903.04        Critical  \n",
       "\n",
       "[5 rows x 24 columns]"
      ]
     },
     "execution_count": 5,
     "metadata": {},
     "output_type": "execute_result"
    }
   ],
   "source": [
    "df = pd.read_csv('./Global_Superstore.csv', encoding='ISO-8859-1')\n",
    "df.head()"
   ]
  },
  {
   "cell_type": "markdown",
   "id": "25fbb749",
   "metadata": {},
   "source": [
    "- Let's use the info function to check the data "
   ]
  },
  {
   "cell_type": "code",
   "execution_count": 6,
   "id": "83928ea6",
   "metadata": {},
   "outputs": [
    {
     "name": "stdout",
     "output_type": "stream",
     "text": [
      "<class 'pandas.core.frame.DataFrame'>\n",
      "RangeIndex: 51290 entries, 0 to 51289\n",
      "Data columns (total 24 columns):\n",
      " #   Column          Non-Null Count  Dtype  \n",
      "---  ------          --------------  -----  \n",
      " 0   Row ID          51290 non-null  int64  \n",
      " 1   Order ID        51290 non-null  object \n",
      " 2   Order Date      51290 non-null  object \n",
      " 3   Ship Date       51290 non-null  object \n",
      " 4   Ship Mode       51290 non-null  object \n",
      " 5   Customer ID     51290 non-null  object \n",
      " 6   Customer Name   51290 non-null  object \n",
      " 7   Segment         51290 non-null  object \n",
      " 8   City            51290 non-null  object \n",
      " 9   State           51290 non-null  object \n",
      " 10  Country         51290 non-null  object \n",
      " 11  Postal Code     9994 non-null   float64\n",
      " 12  Market          51290 non-null  object \n",
      " 13  Region          51290 non-null  object \n",
      " 14  Product ID      51290 non-null  object \n",
      " 15  Category        51290 non-null  object \n",
      " 16  Sub-Category    51290 non-null  object \n",
      " 17  Product Name    51290 non-null  object \n",
      " 18  Sales           51290 non-null  float64\n",
      " 19  Quantity        51290 non-null  int64  \n",
      " 20  Discount        51290 non-null  float64\n",
      " 21  Profit          51290 non-null  float64\n",
      " 22  Shipping Cost   51290 non-null  float64\n",
      " 23  Order Priority  51290 non-null  object \n",
      "dtypes: float64(5), int64(2), object(17)\n",
      "memory usage: 9.4+ MB\n"
     ]
    }
   ],
   "source": [
    "df.info()"
   ]
  },
  {
   "cell_type": "markdown",
   "id": "3c507ea9",
   "metadata": {},
   "source": [
    "- We have 51290 rows and 24 columns in this dataset and just 2 columns in *int* data type and 2 columns in *float* data type \n",
    "  and others all columns have in object data type . \n"
   ]
  },
  {
   "cell_type": "code",
   "execution_count": 7,
   "id": "880618ef",
   "metadata": {},
   "outputs": [
    {
     "data": {
      "text/plain": [
       "Row ID                0\n",
       "Order ID              0\n",
       "Order Date            0\n",
       "Ship Date             0\n",
       "Ship Mode             0\n",
       "Customer ID           0\n",
       "Customer Name         0\n",
       "Segment               0\n",
       "City                  0\n",
       "State                 0\n",
       "Country               0\n",
       "Postal Code       41296\n",
       "Market                0\n",
       "Region                0\n",
       "Product ID            0\n",
       "Category              0\n",
       "Sub-Category          0\n",
       "Product Name          0\n",
       "Sales                 0\n",
       "Quantity              0\n",
       "Discount              0\n",
       "Profit                0\n",
       "Shipping Cost         0\n",
       "Order Priority        0\n",
       "dtype: int64"
      ]
     },
     "execution_count": 7,
     "metadata": {},
     "output_type": "execute_result"
    }
   ],
   "source": [
    "df.isnull().sum()"
   ]
  },
  {
   "cell_type": "code",
   "execution_count": 8,
   "id": "cae17073",
   "metadata": {},
   "outputs": [
    {
     "data": {
      "text/plain": [
       "Index(['Row ID', 'Order ID', 'Order Date', 'Ship Date', 'Ship Mode',\n",
       "       'Customer ID', 'Customer Name', 'Segment', 'City', 'State', 'Country',\n",
       "       'Postal Code', 'Market', 'Region', 'Product ID', 'Category',\n",
       "       'Sub-Category', 'Product Name', 'Sales', 'Quantity', 'Discount',\n",
       "       'Profit', 'Shipping Cost', 'Order Priority'],\n",
       "      dtype='object')"
      ]
     },
     "execution_count": 8,
     "metadata": {},
     "output_type": "execute_result"
    }
   ],
   "source": [
    "df.columns"
   ]
  },
  {
   "cell_type": "markdown",
   "id": "151a3076",
   "metadata": {},
   "source": [
    "- ## Name of the columns in this data set\n",
    "---\n",
    "- `'Row ID', 'Order ID', 'Order Date', 'Ship Date', 'Ship Mode',\n",
    "       'Customer ID', 'Customer Name', 'Segment', 'City', 'State', 'Country',\n",
    "       'Postal Code', 'Market', 'Region', 'Product ID', 'Category',\n",
    "       'Sub-Category', 'Product Name', 'Sales', 'Quantity', 'Discount',\n",
    "       'Profit', 'Shipping Cost', 'Order Priority'`\n",
    "\n",
    "- This is our column names and we missing  values just in **Postal Code** column.\n",
    "\n",
    "- In this column 41296 are missing values so we need to deal with this. \n",
    "\n",
    "- Let's remove this column because this in not an important column and this have so many missing values."
   ]
  },
  {
   "cell_type": "code",
   "execution_count": 9,
   "id": "82df3f5c",
   "metadata": {},
   "outputs": [
    {
     "data": {
      "text/plain": [
       "Index(['Row ID', 'Order ID', 'Order Date', 'Ship Date', 'Ship Mode',\n",
       "       'Customer ID', 'Customer Name', 'Segment', 'City', 'State', 'Country',\n",
       "       'Market', 'Region', 'Product ID', 'Category', 'Sub-Category',\n",
       "       'Product Name', 'Sales', 'Quantity', 'Discount', 'Profit',\n",
       "       'Shipping Cost', 'Order Priority'],\n",
       "      dtype='object')"
      ]
     },
     "execution_count": 9,
     "metadata": {},
     "output_type": "execute_result"
    }
   ],
   "source": [
    "df.drop(['Postal Code'], axis=1, inplace=True)\n",
    "df.columns\n"
   ]
  },
  {
   "cell_type": "code",
   "execution_count": 10,
   "id": "5957d5ea",
   "metadata": {},
   "outputs": [
    {
     "data": {
      "text/plain": [
       "Row ID            0\n",
       "Order ID          0\n",
       "Order Date        0\n",
       "Ship Date         0\n",
       "Ship Mode         0\n",
       "Customer ID       0\n",
       "Customer Name     0\n",
       "Segment           0\n",
       "City              0\n",
       "State             0\n",
       "Country           0\n",
       "Market            0\n",
       "Region            0\n",
       "Product ID        0\n",
       "Category          0\n",
       "Sub-Category      0\n",
       "Product Name      0\n",
       "Sales             0\n",
       "Quantity          0\n",
       "Discount          0\n",
       "Profit            0\n",
       "Shipping Cost     0\n",
       "Order Priority    0\n",
       "dtype: int64"
      ]
     },
     "execution_count": 10,
     "metadata": {},
     "output_type": "execute_result"
    }
   ],
   "source": [
    "df.isnull().sum()"
   ]
  },
  {
   "cell_type": "markdown",
   "id": "5bb4ad48",
   "metadata": {},
   "source": [
    "- As you can see there is no missing value and our data is clean \n",
    "- Convert dates: Change the 'Order Date' to datetime format and extract the year for potential future use."
   ]
  },
  {
   "cell_type": "code",
   "execution_count": 11,
   "id": "79dbcf81",
   "metadata": {},
   "outputs": [
    {
     "name": "stderr",
     "output_type": "stream",
     "text": [
      "C:\\Users\\dell\\AppData\\Local\\Temp\\ipykernel_9852\\3626868070.py:1: UserWarning: Parsing dates in DD/MM/YYYY format when dayfirst=False (the default) was specified. This may lead to inconsistently parsed dates! Specify a format to ensure consistent parsing.\n",
      "  df['Order Date'] = pd.to_datetime(df['Order Date'])\n"
     ]
    }
   ],
   "source": [
    "df['Order Date'] = pd.to_datetime(df['Order Date'])\n",
    "df['Year'] = df['Order Date'].dt.year"
   ]
  },
  {
   "cell_type": "markdown",
   "id": "488ce7ca",
   "metadata": {},
   "source": [
    "- **Step 3: Build the Streamlit Dashboard**\n",
    "---\n",
    "- Now, let's create the Streamlit dashboard in app.py file .\n",
    "- But we can visualize in this file \n",
    "- let's visualize the data"
   ]
  },
  {
   "cell_type": "code",
   "execution_count": null,
   "id": "97cec72f",
   "metadata": {},
   "outputs": [
    {
     "name": "stderr",
     "output_type": "stream",
     "text": [
      "C:\\Users\\dell\\AppData\\Local\\Temp\\ipykernel_9852\\126239480.py:13: UserWarning:\n",
      "\n",
      "Matplotlib is currently using agg, which is a non-GUI backend, so cannot show the figure.\n",
      "\n"
     ]
    }
   ],
   "source": [
    "import seaborn as sns\n",
    "# Group data by category and sum the sales\n",
    "category_sales = df.groupby('Category')['Sales'].sum()\n",
    "\n",
    "# Set the color palette\n",
    "sns.set_palette(\"pastel\")\n",
    "\n",
    "# Create a pie chart\n",
    "plt.figure(figsize=(10, 6))\n",
    "plt.pie(category_sales, labels=category_sales.index, autopct='%1.1f%%', startangle=140)\n",
    "plt.title('Sales Distribution by Category')\n",
    "plt.axis('equal')  # Equal aspect ratio ensures that pie chart is a circle.\n",
    "# Save the figure\n",
    "plt.savefig('sales_distribution_by_category.png')"
   ]
  }
 ],
 "metadata": {
  "kernelspec": {
   "display_name": "base",
   "language": "python",
   "name": "python3"
  },
  "language_info": {
   "codemirror_mode": {
    "name": "ipython",
    "version": 3
   },
   "file_extension": ".py",
   "mimetype": "text/x-python",
   "name": "python",
   "nbconvert_exporter": "python",
   "pygments_lexer": "ipython3",
   "version": "3.11.4"
  }
 },
 "nbformat": 4,
 "nbformat_minor": 5
}
